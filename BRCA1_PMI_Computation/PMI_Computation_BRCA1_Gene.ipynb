{
 "cells": [
  {
   "cell_type": "code",
   "execution_count": 1,
   "metadata": {},
   "outputs": [],
   "source": [
    "#Import Libraries \n",
    "\n",
    "import pandas as pd\n",
    "import matplotlib.pyplot as plt\n",
    "import re\n",
    "import time\n",
    "import warnings\n",
    "import numpy as np\n",
    "from nltk.corpus import stopwords\n",
    "from sklearn.decomposition import TruncatedSVD\n",
    "from sklearn.preprocessing import normalize\n",
    "from sklearn.feature_extraction.text import CountVectorizer\n",
    "from sklearn.manifold import TSNE\n",
    "import seaborn as sns\n",
    "from sklearn.neighbors import KNeighborsClassifier\n",
    "from sklearn.metrics import confusion_matrix\n",
    "from sklearn.metrics import accuracy_score, log_loss\n",
    "from sklearn.feature_extraction.text import TfidfVectorizer\n",
    "from sklearn.linear_model import SGDClassifier\n",
    "from imblearn.over_sampling import SMOTE\n",
    "from collections import Counter\n",
    "from scipy.sparse import hstack\n",
    "from sklearn.multiclass import OneVsRestClassifier\n",
    "from sklearn.svm import SVC\n",
    "from sklearn.model_selection import StratifiedKFold \n",
    "from collections import Counter, defaultdict\n",
    "from sklearn.calibration import CalibratedClassifierCV\n",
    "from sklearn.naive_bayes import MultinomialNB\n",
    "from sklearn.naive_bayes import GaussianNB\n",
    "from sklearn.model_selection import train_test_split\n",
    "from sklearn.model_selection import GridSearchCV\n",
    "import math\n",
    "from sklearn.metrics import normalized_mutual_info_score\n",
    "from sklearn.ensemble import RandomForestClassifier\n",
    "warnings.filterwarnings(\"ignore\")\n",
    "from sklearn import model_selection\n",
    "from sklearn.linear_model import LogisticRegression\n",
    "from sklearn.model_selection import train_test_split\n",
    "from nltk.tokenize import word_tokenize"
   ]
  },
  {
   "cell_type": "code",
   "execution_count": 2,
   "metadata": {},
   "outputs": [],
   "source": [
    "# Read the contents of the BRCA1 mutations csv file into a data frame\n",
    "training_variants_BRCA1 = pd.read_csv('/home/bharat/Desktop/CS_631_Final_Project/msk-redefining-cancer-treatment/PMI_computation_gene_variant_relation/list_of_docs_BRCA1.csv')"
   ]
  },
  {
   "cell_type": "code",
   "execution_count": 3,
   "metadata": {},
   "outputs": [
    {
     "data": {
      "text/html": [
       "<div>\n",
       "<style scoped>\n",
       "    .dataframe tbody tr th:only-of-type {\n",
       "        vertical-align: middle;\n",
       "    }\n",
       "\n",
       "    .dataframe tbody tr th {\n",
       "        vertical-align: top;\n",
       "    }\n",
       "\n",
       "    .dataframe thead th {\n",
       "        text-align: right;\n",
       "    }\n",
       "</style>\n",
       "<table border=\"1\" class=\"dataframe\">\n",
       "  <thead>\n",
       "    <tr style=\"text-align: right;\">\n",
       "      <th></th>\n",
       "      <th>2417</th>\n",
       "      <th>BRCA1</th>\n",
       "      <th>E1735K</th>\n",
       "      <th>6</th>\n",
       "    </tr>\n",
       "  </thead>\n",
       "  <tbody>\n",
       "    <tr>\n",
       "      <th>0</th>\n",
       "      <td>2418</td>\n",
       "      <td>BRCA1</td>\n",
       "      <td>R1753T</td>\n",
       "      <td>4</td>\n",
       "    </tr>\n",
       "    <tr>\n",
       "      <th>1</th>\n",
       "      <td>2419</td>\n",
       "      <td>BRCA1</td>\n",
       "      <td>C44Y</td>\n",
       "      <td>4</td>\n",
       "    </tr>\n",
       "    <tr>\n",
       "      <th>2</th>\n",
       "      <td>2420</td>\n",
       "      <td>BRCA1</td>\n",
       "      <td>R1835P</td>\n",
       "      <td>1</td>\n",
       "    </tr>\n",
       "    <tr>\n",
       "      <th>3</th>\n",
       "      <td>2421</td>\n",
       "      <td>BRCA1</td>\n",
       "      <td>Truncating Mutations</td>\n",
       "      <td>1</td>\n",
       "    </tr>\n",
       "    <tr>\n",
       "      <th>4</th>\n",
       "      <td>2422</td>\n",
       "      <td>BRCA1</td>\n",
       "      <td>G1803A</td>\n",
       "      <td>1</td>\n",
       "    </tr>\n",
       "    <tr>\n",
       "      <th>5</th>\n",
       "      <td>2423</td>\n",
       "      <td>BRCA1</td>\n",
       "      <td>A1830T</td>\n",
       "      <td>5</td>\n",
       "    </tr>\n",
       "    <tr>\n",
       "      <th>6</th>\n",
       "      <td>2424</td>\n",
       "      <td>BRCA1</td>\n",
       "      <td>G1743R</td>\n",
       "      <td>1</td>\n",
       "    </tr>\n",
       "    <tr>\n",
       "      <th>7</th>\n",
       "      <td>2425</td>\n",
       "      <td>BRCA1</td>\n",
       "      <td>I68K</td>\n",
       "      <td>6</td>\n",
       "    </tr>\n",
       "    <tr>\n",
       "      <th>8</th>\n",
       "      <td>2426</td>\n",
       "      <td>BRCA1</td>\n",
       "      <td>C64G</td>\n",
       "      <td>4</td>\n",
       "    </tr>\n",
       "    <tr>\n",
       "      <th>9</th>\n",
       "      <td>2427</td>\n",
       "      <td>BRCA1</td>\n",
       "      <td>S4P</td>\n",
       "      <td>6</td>\n",
       "    </tr>\n",
       "  </tbody>\n",
       "</table>\n",
       "</div>"
      ],
      "text/plain": [
       "   2417  BRCA1                E1735K  6\n",
       "0  2418  BRCA1                R1753T  4\n",
       "1  2419  BRCA1                  C44Y  4\n",
       "2  2420  BRCA1                R1835P  1\n",
       "3  2421  BRCA1  Truncating Mutations  1\n",
       "4  2422  BRCA1                G1803A  1\n",
       "5  2423  BRCA1                A1830T  5\n",
       "6  2424  BRCA1                G1743R  1\n",
       "7  2425  BRCA1                  I68K  6\n",
       "8  2426  BRCA1                  C64G  4\n",
       "9  2427  BRCA1                   S4P  6"
      ]
     },
     "execution_count": 3,
     "metadata": {},
     "output_type": "execute_result"
    }
   ],
   "source": [
    "training_variants_BRCA1.head(10)"
   ]
  },
  {
   "cell_type": "code",
   "execution_count": 4,
   "metadata": {},
   "outputs": [],
   "source": [
    "training_variants_BRCA1_list= training_variants_BRCA1.values.tolist()"
   ]
  },
  {
   "cell_type": "code",
   "execution_count": 5,
   "metadata": {},
   "outputs": [
    {
     "name": "stdout",
     "output_type": "stream",
     "text": [
      "[2420, 'BRCA1', 'R1835P', 1]\n"
     ]
    }
   ],
   "source": [
    "print(training_variants_BRCA1_list[2])"
   ]
  },
  {
   "cell_type": "code",
   "execution_count": 6,
   "metadata": {},
   "outputs": [
    {
     "name": "stdout",
     "output_type": "stream",
     "text": [
      "34453\n"
     ]
    }
   ],
   "source": [
    "# Create pairs of mutations of the BRCA1 gene and designate the pair as 1 if the mutations belong to the same\n",
    "# class of 0 otherwise\n",
    "combination_mutation_pairs_BRCA1={}\n",
    "for i in range(len(training_variants_BRCA1_list)-1):\n",
    "    for j in range(i+1,len(training_variants_BRCA1_list)):\n",
    "        if training_variants_BRCA1_list[i][3]==training_variants_BRCA1_list[j][3]:\n",
    "            combination_mutation_pairs_BRCA1[str(training_variants_BRCA1_list[i][2])+'-'+str(training_variants_BRCA1_list[j][2])]=[1]\n",
    "        else:\n",
    "            combination_mutation_pairs_BRCA1[str(training_variants_BRCA1_list[i][2])+'-'+str(training_variants_BRCA1_list[j][2])]=[0]\n",
    "print(len(combination_mutation_pairs_BRCA1))"
   ]
  },
  {
   "cell_type": "code",
   "execution_count": 7,
   "metadata": {},
   "outputs": [],
   "source": [
    "#\"Return first n items of the iterable as a list\"\n",
    "from itertools import islice\n",
    "\n",
    "def take(n, iterable):\n",
    "    return list(islice(iterable, n))"
   ]
  },
  {
   "cell_type": "code",
   "execution_count": 8,
   "metadata": {},
   "outputs": [
    {
     "name": "stdout",
     "output_type": "stream",
     "text": [
      "[('R1753T-C44Y', [1]), ('R1753T-R1835P', [0]), ('R1753T-Truncating Mutations', [0]), ('R1753T-G1803A', [0]), ('R1753T-A1830T', [0]), ('R1753T-G1743R', [0]), ('R1753T-I68K', [0]), ('R1753T-C64G', [1]), ('R1753T-S4P', [0]), ('R1753T-K50L', [0]), ('R1753T-Y105C', [0]), ('R1753T-L63F', [0]), ('R1753T-L1407P', [0]), ('R1753T-L1657P', [0]), ('R1753T-F79S', [0]), ('R1753T-D1778H', [0]), ('R1753T-D1546N', [0]), ('R1753T-M1689T', [0]), ('R1753T-D96N', [0]), ('R1753T-W1837C', [0]), ('R1753T-Deletion', [0]), ('R1753T-P1856S', [0]), ('R1753T-F1761I', [0]), ('R1753T-A1823T', [0]), ('R1753T-I1807S', [0]), ('R1753T-K38N', [0]), ('R1753T-S1651P', [0]), ('R1753T-L246V', [0]), ('R1753T-V191I', [0]), ('R1753T-T37R', [1]), ('R1753T-D1818G', [0]), ('R1753T-S72R', [0]), ('R1753T-Y179C', [0]), ('R1753T-C39Y', [1]), ('R1753T-K45N', [0]), ('R1753T-L52F', [0]), ('R1753T-H1746N', [0]), ('R1753T-P1749R', [1]), ('R1753T-H1746Q', [0]), ('R1753T-I21V', [0]), ('R1753T-W1718C', [1]), ('R1753T-R170W', [0]), ('R1753T-T77M', [0]), ('R1753T-V1713A', [1]), ('R1753T-V1833M', [0]), ('R1753T-S1101N', [0]), ('R1753T-T1691I', [0]), ('R1753T-L147F', [0]), ('R1753T-H1421Y', [0]), ('R1753T-E362H', [0])]\n"
     ]
    }
   ],
   "source": [
    "# Print 50 items from the mutation pairs list \n",
    "n_items = take(50, combination_mutation_pairs_BRCA1.items())\n",
    "print(n_items)"
   ]
  },
  {
   "cell_type": "code",
   "execution_count": 9,
   "metadata": {},
   "outputs": [
    {
     "name": "stdout",
     "output_type": "stream",
     "text": [
      "[0]\n"
     ]
    }
   ],
   "source": [
    "print(combination_mutation_pairs_BRCA1['R1753T-E29V'])"
   ]
  },
  {
   "cell_type": "code",
   "execution_count": 10,
   "metadata": {},
   "outputs": [
    {
     "name": "stdout",
     "output_type": "stream",
     "text": [
      "263\n"
     ]
    }
   ],
   "source": [
    "#Create a list containing all the mutations of the BRCA1 gene present in the training dataset\n",
    "BRCA1_Mutation_List=[]\n",
    "for i in range(len(training_variants_BRCA1_list)):\n",
    "    BRCA1_Mutation_List.append(training_variants_BRCA1_list[i][2])\n",
    "print(len(BRCA1_Mutation_List))   "
   ]
  },
  {
   "cell_type": "code",
   "execution_count": 11,
   "metadata": {},
   "outputs": [
    {
     "name": "stdout",
     "output_type": "stream",
     "text": [
      "['R1753T', 'C44Y', 'R1835P', 'Truncating Mutations', 'G1803A', 'A1830T', 'G1743R', 'I68K', 'C64G', 'S4P', 'K50L', 'Y105C', 'L63F', 'L1407P', 'L1657P', 'F79S', 'D1778H', 'D1546N', 'M1689T', 'D96N', 'W1837C', 'Deletion', 'P1856S', 'F1761I', 'A1823T', 'I1807S', 'K38N', 'S1651P', 'L246V', 'V191I', 'T37R', 'D1818G', 'S72R', 'Y179C', 'C39Y', 'K45N', 'L52F', 'H1746N', 'P1749R', 'H1746Q', 'I21V', 'W1718C', 'R170W', 'T77M', 'V1713A', 'V1833M', 'S1101N', 'T1691I', 'L147F', 'H1421Y', 'E362H', 'R170Q', 'S1715C', 'E1794D', 'L358R', 'S308A', 'V1741G', 'R1699L', 'V1804A', 'E23fs', 'F1734S', 'C61G', 'D245V', 'P142H', 'L1705P', 'H1686R', 'P1776S', 'M1783T', 'S1841R', 'V1534M', 'W1782C', 'G1706A', 'G1788V', 'W1837G', 'A1708E', 'S1512I', 'M1783I', 'E1682V', 'M1783L', 'G1706E', 'R496C', 'S153R', 'N810Y', 'K1702E', 'A1789S', 'R866C', 'V11A', 'D1739V', 'M1775E', 'D67Y', 'D1344H', 'V271L', 'S1841N', 'F1761S', 'E1586G', 'S1841A', 'I89N', 'L82P', 'P798L', 'E29V', 'M1775K', 'E1060A', 'I90T', 'I15T', 'V1736G', 'L1854P', 'E1836K', 'F1704S', 'P1812S', 'H1402Y', 'N550H', 'Q1756fs', 'G1738R', 'S1497A', 'N1647K', 'Q1785H', 'H41R', 'R1589P', 'L165P', 'C24R', 'L1844R', 'C1767S', 'K65M', 'V1809A', 'Y1703H', 'C27A', 'S1655F', 'N1819Y', 'S1486C', 'P1859R', 'Y1853*', 'E1682K', 'K56N', 'S1651F', 'V1714G', 'D1778N', 'Y1703S', 'A1669S', 'W1837R', 'V1833E', 'P1806A', 'M18T', 'M1411T', 'S1140G', 'Y1853C', 'T1700A', 'T1852S', 'H1805P', 'D1778Y', 'T1685A', 'D1733G', 'Q1811R', 'D1739G', 'S1297del', 'I89T', 'C1697R', 'L1764P', 'P1637L', 'G1770V', 'A1752V', 'G1656D', 'G1763V', 'I31M', 'V1688del', 'D1739Y', 'E1660G', 'S1715R', 'F1662S', 'M1628V', 'S186Y', 'S4F', 'R1699W', 'L28P', 'N132K', 'V1838E', 'C24Y', 'E60L', 'G1738E', 'G1788D', 'S59R', 'V1809F', 'M1689R', 'D1739E', 'M1400V', 'M1008I', 'E1282V', 'E1214K', 'V1665M', 'C39R', 'M1775V', 'R1589H', 'I26N', 'N1819S', 'V1808A', 'H1862L', 'T1720I', 'M1R', 'T47D', 'P1771L', 'V1736A', 'C1787S', 'V1810G', 'N1236K', 'R1699Q', 'S1722F', 'A1789T', 'R1758G', 'K45Q', 'D1692N', 'I1766S', 'L1267S', 'E143K', 'T1720A', 'L1780P', 'I42V', 'Q12Y', 'W1718L', 'P1856T', 'R1751Q', 'A1752P', 'R1726G', 'V1653M', 'N1730S', 'E1644G', 'H1686Q', 'Q1826H', 'R71G', 'S1164I', 'V1804D', 'S1301R', 'C44F', 'V191D', 'Q1756C', 'R841Q', 'M1652K', 'R1751P', 'C47G', 'C360R', 'M1663K', 'S1715N', 'K50E', 'A1708V', 'E1250K', 'S1613C', 'L668F', 'P1614S', 'A1843P', 'C39S', 'P1812R', 'V1378I', 'P1771R', 'T1685I', 'T1691K', 'F1695L', 'K45T', 'S1473P', 'M1652T', 'E1346K', 'R133H', 'A1843T', 'D1778G', 'S1613G', 'M18K']\n"
     ]
    }
   ],
   "source": [
    "print(BRCA1_Mutation_List)  "
   ]
  },
  {
   "cell_type": "code",
   "execution_count": 12,
   "metadata": {},
   "outputs": [],
   "source": [
    "# Remove Truncating Mutations as they are generic in nature\n",
    "BRCA1_Mutation_List.remove('Truncating Mutations')\n",
    "BRCA1_Mutation_List.remove('Deletion')"
   ]
  },
  {
   "cell_type": "code",
   "execution_count": 13,
   "metadata": {},
   "outputs": [],
   "source": [
    "# Create a list of tuples of all mutation pairs of the BRCA1 gene\n",
    "BRCA1_Mutation_Tuples=[]\n",
    "for i in range(0,len(BRCA1_Mutation_List)-1):\n",
    "    for j in range(i+1,len(BRCA1_Mutation_List)):\n",
    "        BRCA1_Mutation_Tuples.append((BRCA1_Mutation_List[i],BRCA1_Mutation_List[j]))"
   ]
  },
  {
   "cell_type": "code",
   "execution_count": 14,
   "metadata": {},
   "outputs": [
    {
     "name": "stdout",
     "output_type": "stream",
     "text": [
      "33930\n",
      "('R1753T', 'L63F')\n"
     ]
    }
   ],
   "source": [
    "print(len(BRCA1_Mutation_Tuples))\n",
    "print(BRCA1_Mutation_Tuples[10])"
   ]
  },
  {
   "cell_type": "code",
   "execution_count": 15,
   "metadata": {},
   "outputs": [],
   "source": [
    "import findspark\n",
    "findspark.init('/home/bharat/spark-3.1.1-bin-hadoop2.7')"
   ]
  },
  {
   "cell_type": "code",
   "execution_count": 16,
   "metadata": {},
   "outputs": [],
   "source": [
    "# Create a Sparkcontext\n",
    "import pyspark\n",
    "from pyspark import SparkContext, SparkConf\n",
    "\n",
    "spark_conf = SparkConf()\\\n",
    "  .setAppName(\"YourTest\")\\\n",
    "  .setMaster(\"local[*]\")\n",
    "\n",
    "sc = SparkContext.getOrCreate(spark_conf)"
   ]
  },
  {
   "cell_type": "code",
   "execution_count": 17,
   "metadata": {},
   "outputs": [],
   "source": [
    "# Compute the Occurence-Probabilities of Mutations in Research Literature\n",
    "\n",
    "def doc_mutation_occurence_probabilities():\n",
    "    # \"training_text_BRCA1.txt\" is the document that contains all the papers associated with the BRCA1 mutations\n",
    "    # in the training dataset. There are 264 such papers.\n",
    "    document=\"training_text_BRCA1.txt\"\n",
    "\n",
    "    def unique(list1): \n",
    "  \n",
    "    # intilize a null list \n",
    "        unique_list = [] \n",
    "      \n",
    "    # traverse for all elements \n",
    "        for x in list1: \n",
    "            # check if x exists in unique_list or not \n",
    "            if x not in unique_list: \n",
    "                unique_list.append(x) \n",
    "        return unique_list\n",
    "  \n",
    "    # Count the number of lines in the document (in this case, each document is a line so line \n",
    "    # count is in effect document count)\n",
    "    line_count = sc.textFile(document).map(lambda s: 1).reduce(lambda a,b: a+b)\n",
    "    line_count=int(line_count)\n",
    "\n",
    "    # Compute the occurence of each mutation in the combined research paper document, in effect this means\n",
    "    # the number of documents in which the mutation occurs atleast once\n",
    "    word_occurence = sc.textFile(document).flatMap(lambda line: unique(word_tokenize(line))).map(lambda x:(x,1) if x in BRCA1_Mutation_List else (x,0)).reduceByKey(lambda a, b: a + b).collect()\n",
    "\n",
    "    # Compute the probability of occurrence of a mutation per document in the combined document\n",
    "    word_occurence_prob = sc.textFile(document).flatMap(lambda line: unique(word_tokenize(line))).map(lambda x:(x,1) if x in BRCA1_Mutation_List else (x,0)).reduceByKey(lambda a, b: a + b).filter(lambda x: x[1]>0).map(lambda a : (a[0],a[1]/line_count)).collect()\n",
    "    variant_occurence = [x for x in word_occurence if x[0] in BRCA1_Mutation_List]\n",
    "    variant_prob=[x for x in word_occurence_prob if x[0] in BRCA1_Mutation_List]\n",
    "\n",
    "    # return the list of mutations in the decreasing order of magnitude of the probabilities of their occurrence\n",
    "    return (sorted(variant_prob,key=lambda x:(-x[1],x[0])))\n"
   ]
  },
  {
   "cell_type": "code",
   "execution_count": 18,
   "metadata": {},
   "outputs": [
    {
     "data": {
      "text/plain": [
       "[('S1655F', 0.7857142857142857),\n",
       " ('R1699W', 0.7255639097744361),\n",
       " ('G1706A', 0.7142857142857143),\n",
       " ('A1708E', 0.706766917293233),\n",
       " ('V1736A', 0.6578947368421053),\n",
       " ('G1706E', 0.6353383458646616),\n",
       " ('W1718C', 0.5789473684210527),\n",
       " ('R1699Q', 0.5639097744360902),\n",
       " ('C61G', 0.5225563909774437),\n",
       " ('C64G', 0.48120300751879697),\n",
       " ('P142H', 0.47368421052631576),\n",
       " ('Y105C', 0.47368421052631576),\n",
       " ('G1788V', 0.43609022556390975),\n",
       " ('I1766S', 0.43609022556390975),\n",
       " ('V1833M', 0.42105263157894735),\n",
       " ('A1752P', 0.41729323308270677),\n",
       " ('M1783T', 0.41729323308270677),\n",
       " ('V1808A', 0.41729323308270677),\n",
       " ('V1809F', 0.41729323308270677),\n",
       " ('M1775K', 0.40225563909774437),\n",
       " ('A1843P', 0.39849624060150374),\n",
       " ('C1697R', 0.39849624060150374),\n",
       " ('G1656D', 0.39849624060150374),\n",
       " ('H1746N', 0.39849624060150374),\n",
       " ('R1699L', 0.39849624060150374),\n",
       " ('W1837G', 0.39849624060150374),\n",
       " ('M18T', 0.38345864661654133),\n",
       " ('V1804D', 0.38345864661654133),\n",
       " ('P1806A', 0.37593984962406013),\n",
       " ('T1720A', 0.37218045112781956),\n",
       " ('D67Y', 0.36466165413533835),\n",
       " ('L1407P', 0.36466165413533835),\n",
       " ('S186Y', 0.36466165413533835),\n",
       " ('D1739G', 0.3458646616541353),\n",
       " ('E1794D', 0.33458646616541354),\n",
       " ('L1764P', 0.33458646616541354),\n",
       " ('R1753T', 0.33458646616541354),\n",
       " ('V1534M', 0.33458646616541354),\n",
       " ('W1837R', 0.32706766917293234),\n",
       " ('V1688del', 0.3233082706766917),\n",
       " ('A1843T', 0.31954887218045114),\n",
       " ('E1660G', 0.31954887218045114),\n",
       " ('F1761I', 0.31954887218045114),\n",
       " ('G1743R', 0.31954887218045114),\n",
       " ('K1702E', 0.31954887218045114),\n",
       " ('L1657P', 0.31954887218045114),\n",
       " ('M1689R', 0.31954887218045114),\n",
       " ('M1775V', 0.31954887218045114),\n",
       " ('S1715N', 0.31954887218045114),\n",
       " ('H1686Q', 0.3157894736842105),\n",
       " ('A1789T', 0.31203007518796994),\n",
       " ('G1770V', 0.31203007518796994),\n",
       " ('N132K', 0.31203007518796994),\n",
       " ('C1767S', 0.2932330827067669),\n",
       " ('C360R', 0.2932330827067669),\n",
       " ('D1739V', 0.2932330827067669),\n",
       " ('D245V', 0.2932330827067669),\n",
       " ('E1060A', 0.2932330827067669),\n",
       " ('E1214K', 0.2932330827067669),\n",
       " ('E1250K', 0.2932330827067669),\n",
       " ('E1282V', 0.2932330827067669),\n",
       " ('E1346K', 0.2932330827067669),\n",
       " ('E362H', 0.2932330827067669),\n",
       " ('H1686R', 0.2932330827067669),\n",
       " ('H1746Q', 0.2932330827067669),\n",
       " ('H1862L', 0.2932330827067669),\n",
       " ('K45Q', 0.2932330827067669),\n",
       " ('L1267S', 0.2932330827067669),\n",
       " ('L147F', 0.2932330827067669),\n",
       " ('L165P', 0.2932330827067669),\n",
       " ('L246V', 0.2932330827067669),\n",
       " ('L358R', 0.2932330827067669),\n",
       " ('L668F', 0.2932330827067669),\n",
       " ('M1008I', 0.2932330827067669),\n",
       " ('M1400V', 0.2932330827067669),\n",
       " ('M1411T', 0.2932330827067669),\n",
       " ('N1236K', 0.2932330827067669),\n",
       " ('N810Y', 0.2932330827067669),\n",
       " ('P1812R', 0.2932330827067669),\n",
       " ('P798L', 0.2932330827067669),\n",
       " ('R1589P', 0.2932330827067669),\n",
       " ('R170W', 0.2932330827067669),\n",
       " ('R841Q', 0.2932330827067669),\n",
       " ('R866C', 0.2932330827067669),\n",
       " ('S1101N', 0.2932330827067669),\n",
       " ('S1140G', 0.2932330827067669),\n",
       " ('S1297del', 0.2932330827067669),\n",
       " ('S1301R', 0.2932330827067669),\n",
       " ('S1486C', 0.2932330827067669),\n",
       " ('S1497A', 0.2932330827067669),\n",
       " ('S1651F', 0.2932330827067669),\n",
       " ('S1651P', 0.2932330827067669),\n",
       " ('S308A', 0.2932330827067669),\n",
       " ('S4F', 0.2932330827067669),\n",
       " ('T1691I', 0.2932330827067669),\n",
       " ('V1378I', 0.2932330827067669),\n",
       " ('V191I', 0.2932330827067669),\n",
       " ('V271L', 0.2932330827067669),\n",
       " ('W1782C', 0.2932330827067669),\n",
       " ('C44F', 0.21052631578947367),\n",
       " ('I42V', 0.21052631578947367),\n",
       " ('R71G', 0.21052631578947367),\n",
       " ('T37R', 0.21052631578947367),\n",
       " ('C24R', 0.16917293233082706),\n",
       " ('H41R', 0.16917293233082706),\n",
       " ('I21V', 0.16917293233082706),\n",
       " ('M1628V', 0.16541353383458646),\n",
       " ('S1613G', 0.15037593984962405),\n",
       " ('G1738E', 0.14661654135338345),\n",
       " ('I15T', 0.14661654135338345),\n",
       " ('C39R', 0.14285714285714285),\n",
       " ('D96N', 0.14285714285714285),\n",
       " ('E29V', 0.14285714285714285),\n",
       " ('F79S', 0.14285714285714285),\n",
       " ('I26N', 0.14285714285714285),\n",
       " ('I68K', 0.14285714285714285),\n",
       " ('I89T', 0.14285714285714285),\n",
       " ('I90T', 0.14285714285714285),\n",
       " ('K38N', 0.14285714285714285),\n",
       " ('K56N', 0.14285714285714285),\n",
       " ('K65M', 0.14285714285714285),\n",
       " ('L28P', 0.14285714285714285),\n",
       " ('L63F', 0.14285714285714285),\n",
       " ('L82P', 0.14285714285714285),\n",
       " ('M18K', 0.14285714285714285),\n",
       " ('Q12Y', 0.14285714285714285),\n",
       " ('S4P', 0.14285714285714285),\n",
       " ('S59R', 0.14285714285714285),\n",
       " ('S72R', 0.14285714285714285),\n",
       " ('T77M', 0.14285714285714285),\n",
       " ('V11A', 0.14285714285714285),\n",
       " ('C39Y', 0.12406015037593984),\n",
       " ('H1402Y', 0.11654135338345864),\n",
       " ('P1614S', 0.11654135338345864),\n",
       " ('T1685I', 0.11654135338345864),\n",
       " ('T1700A', 0.11654135338345864),\n",
       " ('P1749R', 0.10902255639097744),\n",
       " ('M1652K', 0.10526315789473684),\n",
       " ('C47G', 0.10150375939849623),\n",
       " ('E143K', 0.10150375939849623),\n",
       " ('L52F', 0.10150375939849623),\n",
       " ('R170Q', 0.10150375939849623),\n",
       " ('S153R', 0.10150375939849623),\n",
       " ('V191D', 0.10150375939849623),\n",
       " ('Y179C', 0.10150375939849623),\n",
       " ('P1637L', 0.09022556390977443),\n",
       " ('V1713A', 0.08646616541353383),\n",
       " ('G1738R', 0.08270676691729323),\n",
       " ('D1733G', 0.07894736842105263),\n",
       " ('S1613C', 0.07894736842105263),\n",
       " ('D1546N', 0.07142857142857142),\n",
       " ('D1739E', 0.07142857142857142),\n",
       " ('E1644G', 0.07142857142857142),\n",
       " ('G1788D', 0.07142857142857142),\n",
       " ('M1652T', 0.07142857142857142),\n",
       " ('N1819Y', 0.07142857142857142),\n",
       " ('Q1785H', 0.07142857142857142),\n",
       " ('T1720I', 0.07142857142857142),\n",
       " ('V1653M', 0.07142857142857142),\n",
       " ('V1804A', 0.07142857142857142),\n",
       " ('V1810G', 0.07142857142857142),\n",
       " ('S1512I', 0.06766917293233082),\n",
       " ('C27A', 0.06015037593984962),\n",
       " ('I31M', 0.06015037593984962),\n",
       " ('H1421Y', 0.045112781954887216),\n",
       " ('R1751Q', 0.045112781954887216),\n",
       " ('V1665M', 0.045112781954887216),\n",
       " ('A1669S', 0.041353383458646614),\n",
       " ('D1692N', 0.041353383458646614),\n",
       " ('S1715R', 0.041353383458646614),\n",
       " ('V1833E', 0.041353383458646614),\n",
       " ('T47D', 0.03759398496240601),\n",
       " ('C44Y', 0.03007518796992481),\n",
       " ('M1R', 0.03007518796992481),\n",
       " ('S1841A', 0.03007518796992481),\n",
       " ('E1586G', 0.022556390977443608),\n",
       " ('R1589H', 0.022556390977443608),\n",
       " ('S1473P', 0.022556390977443608),\n",
       " ('W1718L', 0.022556390977443608),\n",
       " ('Y1703S', 0.022556390977443608),\n",
       " ('F1734S', 0.011278195488721804),\n",
       " ('Q1826H', 0.011278195488721804),\n",
       " ('A1823T', 0.007518796992481203),\n",
       " ('F1695L', 0.007518796992481203),\n",
       " ('N1730S', 0.007518796992481203),\n",
       " ('P1856S', 0.007518796992481203),\n",
       " ('A1708V', 0.0037593984962406013),\n",
       " ('D1739Y', 0.0037593984962406013),\n",
       " ('D1778N', 0.0037593984962406013),\n",
       " ('R496C', 0.0037593984962406013),\n",
       " ('V1741G', 0.0037593984962406013),\n",
       " ('Y1853C', 0.0037593984962406013)]"
      ]
     },
     "execution_count": 18,
     "metadata": {},
     "output_type": "execute_result"
    }
   ],
   "source": [
    "doc_mutation_occurence_probabilities()"
   ]
  },
  {
   "cell_type": "code",
   "execution_count": 19,
   "metadata": {},
   "outputs": [],
   "source": [
    "# Function to determine whether two mutations in a tuple pair occur in the same document or not\n",
    "def tuple_update(tokenized_line):\n",
    "    tuplst=[]\n",
    "    for i in range (len(BRCA1_Mutation_Tuples)):\n",
    "        if BRCA1_Mutation_Tuples[i][0] in tokenized_line and BRCA1_Mutation_Tuples[i][1] in tokenized_line:\n",
    "            tuplst.append([BRCA1_Mutation_Tuples[i],1])\n",
    "        else:\n",
    "            continue\n",
    "            \n",
    "    return tuplst        "
   ]
  },
  {
   "cell_type": "code",
   "execution_count": 20,
   "metadata": {},
   "outputs": [],
   "source": [
    "# Function to compute the PMI of mutation pairs (a line here refers to a whole document)  \n",
    "\n",
    "from math import log\n",
    "\n",
    "def PMI():\n",
    "  \n",
    "    document=\"training_text_BRCA1.txt\"\n",
    "\n",
    "    def computation(threshold_val):\n",
    "    \n",
    "        def unique(list1): \n",
    "\n",
    "          # intilize a null list \n",
    "          unique_list = [] \n",
    "\n",
    "          # traverse for all elements \n",
    "          for x in list1: \n",
    "              # check if x exists in unique_list or not \n",
    "              if x not in unique_list: \n",
    "                  unique_list.append(x) \n",
    "          return unique_list\n",
    "\n",
    "        def word_count(word,word_tuple_list):\n",
    "          count=0\n",
    "          for i in range(len(word_tuple_list)):\n",
    "            if word_tuple_list[i][0]==word:\n",
    "              count=word_tuple_list[i][1]\n",
    "          return count\n",
    "\n",
    "        line_count = sc.textFile(document).map(lambda s: 1).reduce(lambda a,b: a+b)\n",
    "        line_count=int(line_count)\n",
    "\n",
    "        word_occurence = sc.textFile(document).flatMap(lambda line: unique(word_tokenize(line))).map(lambda x:(x,1) if x in BRCA1_Mutation_List else (x,0)).reduceByKey(lambda a, b: a + b).filter(lambda x: x[1]>0).collect()\n",
    "        \n",
    "        co_occurence_count=sc.textFile(document).map(lambda line: unique(word_tokenize(line))).map(lambda x: tuple_update(x)).collect()\n",
    "        co_occurence_count1=sc.parallelize(co_occurence_count).filter(lambda x: len(x)>0).map(lambda x: (x[0][0],x[0][1])).reduceByKey(lambda a,b:a+b).filter(lambda x: x[1]>=threshold_val).collect()\n",
    "        pmi=sc.parallelize(co_occurence_count1).map(lambda a : (a[0],math.log10((a[1]/line_count)/(((word_count(a[0][0],word_occurence))/line_count)*((word_count(a[0][1],word_occurence))/line_count))))).collect()\n",
    "                \n",
    "        combined_list=[]\n",
    "\n",
    "        for i in range(len(co_occurence_count1)):\n",
    "          temp_list=[]\n",
    "          temp_list.append(co_occurence_count1[i][0])\n",
    "          temp_list.append([pmi[j][1] for j in range(len(pmi)) if pmi[j][0]==co_occurence_count1[i][0]][0])\n",
    "          temp_list.append(co_occurence_count1[i][1]) \n",
    "          temp_list.append([word_occurence[j][1] for j in range(len(word_occurence)) if word_occurence[j][0]==co_occurence_count1[i][0][0]][0])\n",
    "          temp_list.append([word_occurence[j][1] for j in range(len(word_occurence)) if word_occurence[j][0]==co_occurence_count1[i][0][1]][0]) \n",
    "\n",
    "          combined_list.append(tuple(temp_list))\n",
    "\n",
    "        return (sorted(combined_list,key=lambda x:(-x[1],x[0])))\n",
    "        \n",
    "    threshold_val = 0\n",
    "\n",
    "    while threshold_val <= 0:\n",
    "        try:\n",
    "          threshold_val = int(input(\"Input a positive integer frequency threshold: \"))\n",
    "          print(computation(threshold_val))\n",
    "        except ValueError:\n",
    "          print(\"Threshold must be a positive integer!\")\n",
    "          print(line_count)\n",
    "          continue\n",
    "\n",
    "    return None "
   ]
  },
  {
   "cell_type": "code",
   "execution_count": 21,
   "metadata": {},
   "outputs": [
    {
     "name": "stdout",
     "output_type": "stream",
     "text": [
      "Input a positive integer frequency threshold: 1\n",
      "[(('C44Y', 'C39Y'), 0.48039896448089836, 3, 8, 33), (('G1743R', 'L1657P'), 0.35843547470073533, 62, 85, 85), (('I68K', 'C64G'), 0.2693669874086436, 34, 38, 128), (('C44Y', 'I68K'), 0.24303804868629442, 2, 8, 38), (('W1718C', 'E1586G'), 0.15817966974697906, 5, 154, 6), (('R1753T', 'C64G'), 0.15361149534905283, 61, 89, 128), (('A1708E', 'R496C'), 0.15072378736738717, 1, 188, 1), (('L1407P', 'H1421Y'), -0.039011352354840365, 4, 97, 12), (('P1749R', 'V1713A'), -0.09821420162150073, 2, 29, 23), (('R1753T', 'C44Y'), -0.12656836134180824, 2, 89, 8), (('H1746N', 'V1833M'), -0.13112831142599737, 33, 106, 112), (('R1753T', 'G1743R'), -0.2234783743498647, 17, 89, 85), (('C44Y', 'G1743R'), -0.40762727607516935, 1, 8, 85), (('V1833M', 'V1804A'), -0.42596873227228116, 3, 112, 19), (('S1512I', 'N132K'), -0.4484389651843318, 2, 18, 83), (('R1753T', 'L1407P'), -0.6661820642658338, 7, 89, 97), (('C64G', 'Y105C'), -0.7035176320867395, 12, 128, 126), (('R1753T', 'I68K'), -0.8032619709666747, 2, 89, 38), (('G1743R', 'L1407P'), -0.8892490320215083, 4, 85, 97), (('C64G', 'P1749R'), -1.1447263309157574, 1, 128, 29), (('P1749R', 'C61G'), -1.1805311615219842, 1, 29, 139), (('V1833M', 'V1736A'), -1.867374434725409, 1, 112, 175)]\n"
     ]
    }
   ],
   "source": [
    "PMI()"
   ]
  },
  {
   "cell_type": "code",
   "execution_count": null,
   "metadata": {},
   "outputs": [],
   "source": [
    "'''\n",
    "Input a positive integer frequency threshold: 2\n",
    "[(('C384R', 'H398Y'), 3), (('C381A', 'C396R'), 12), (('Y371H', 'C384R'), 5), (('R420Q', 'S376F'), 5), (('N454D', 'R420Q'), 15), (('Q249E', 'V430M'), 12), (('W802', 'Q249E'), 36), (('L399V', 'V391I'), 24), (('Q249E', 'M374V'), 12), (('R420Q', 'G375P'), 1), (('Y371H', 'K382E'), 12)]\n",
    "'''\n",
    "\n",
    "'''\n",
    "Input a positive integer frequency threshold: 2\n",
    "[('W802', 36), ('R420Q', 68), ('H94Y', 3), ('H398Y', 13), ('P417A', 20), ('N454D', 25), ('C381A', 24), ('M374V', 36), ('P428L', 12), ('L399V', 24), ('P395A', 24), ('Q367P', 2), ('Q249E', 72), ('V391I', 30), ('C384R', 8), ('Y371H', 51), ('S376F', 22), ('C396R', 24), ('K382E', 60), ('V430M', 36), ('G375P', 25)]\n",
    "'''\n",
    "\n",
    "'''\n",
    "pmi\n",
    "Input a positive integer frequency threshold: 2\n",
    "[(('L399V', 'V391I'), 2.455707512181184), (('C384R', 'H398Y'), 2.3929166823217285), (('C381A', 'C396R'), 2.2515875295252594), (('W802', 'Q249E'), 2.075496270469578), (('Y371H', 'C384R'), 2.0211386081469853), (('N454D', 'R420Q'), 1.878471104578254), (('Q249E', 'M374V'), 1.5983750157499157), (('Q249E', 'V430M'), 1.5983750157499157), (('Y371H', 'K382E'), 1.5262885864668914), (('R420Q', 'S376F'), 1.4568671777084228), (('R420Q', 'G375P'), 0.7023798455225727)]\n",
    "\n",
    "'''\n",
    "\n",
    "'''\n",
    "Input a positive integer frequency threshold: 2\n",
    "[(('C384R', 'H398Y'), 2.3929166823217285, 3, 8, 13), (('C381A', 'C396R'), 2.2515875295252594, 12, 24, 24), (('Y371H', 'C384R'), 2.0211386081469853, 5, 51, 8), (('R420Q', 'S376F'), 1.4568671777084228, 5, 68, 22), (('N454D', 'R420Q'), 1.878471104578254, 15, 25, 68), (('Q249E', 'V430M'), 1.5983750157499157, 12, 72, 36), (('W802', 'Q249E'), 2.075496270469578, 36, 36, 72), (('L399V', 'V391I'), 2.455707512181184, 24, 24, 30), (('Q249E', 'M374V'), 1.5983750157499157, 12, 72, 36), (('R420Q', 'G375P'), 0.7023798455225727, 1, 68, 25), (('Y371H', 'K382E'), 1.5262885864668914, 12, 51, 60)]\n",
    "'''\n",
    "\n",
    "'''\n",
    "Input a positive integer frequency threshold: 2\n",
    "[(('L399V', 'V391I'), 2.455707512181184, 24, 24, 30), (('C384R', 'H398Y'), 2.3929166823217285, 3, 8, 13), (('C381A', 'C396R'), 2.2515875295252594, 12, 24, 24), (('W802', 'Q249E'), 2.075496270469578, 36, 36, 72), (('Y371H', 'C384R'), 2.0211386081469853, 5, 51, 8), (('N454D', 'R420Q'), 1.878471104578254, 15, 25, 68), (('Q249E', 'M374V'), 1.5983750157499157, 12, 72, 36), (('Q249E', 'V430M'), 1.5983750157499157, 12, 72, 36), (('Y371H', 'K382E'), 1.5262885864668914, 12, 51, 60), (('R420Q', 'S376F'), 1.4568671777084228, 5, 68, 22), (('R420Q', 'G375P'), 0.7023798455225727, 1, 68, 25)]\n",
    "'''"
   ]
  },
  {
   "cell_type": "code",
   "execution_count": 22,
   "metadata": {},
   "outputs": [],
   "source": [
    "# Store the PMI values and mutation occurrences and co-occurrences obtained by using a threshold of 1 in a list \n",
    "PMI_Mutations_Combined_List=[(('G1743R', 'L1657P'), 0.35843547470073533, 62, 85, 85), (('C44Y', 'C39Y'), 0.3043077054252171, 2, 8, 33), (('I68K', 'C64G'), 0.2693669874086436, 34, 38, 128), (('C44Y', 'I68K'), 0.24303804868629442, 2, 8, 38), (('W1718C', 'E1586G'), 0.15817966974697906, 5, 154, 6), (('R1753T', 'C64G'), 0.15361149534905283, 61, 89, 128), (('A1708E', 'R496C'), 0.15072378736738717, 1, 188, 1), (('C44Y', 'Deletion'), 0.03042995580485079, 1, 8, 31), (('L1407P', 'H1421Y'), -0.039011352354840365, 4, 97, 12), (('P1749R', 'V1713A'), -0.09821420162150073, 2, 29, 23), (('R1753T', 'C44Y'), -0.12656836134180824, 2, 89, 8), (('H1746N', 'V1833M'), -0.14449227298397885, 32, 106, 112), (('R1753T', 'G1743R'), -0.2234783743498647, 17, 89, 85), (('C44Y', 'G1743R'), -0.40762727607516935, 1, 8, 85), (('V1833M', 'V1804A'), -0.42596873227228116, 3, 112, 19), (('S1512I', 'N132K'), -0.4484389651843318, 2, 18, 83), (('Deletion', 'P1749R'), -0.5288780551021617, 1, 31, 29), (('R1753T', 'L1407P'), -0.6661820642658338, 7, 89, 97), (('C64G', 'Y105C'), -0.7035176320867395, 12, 128, 126), (('R1753T', 'I68K'), -0.8032619709666747, 2, 89, 38), (('G1743R', 'L1407P'), -0.8892490320215083, 4, 85, 97), (('Deletion', 'H1746N'), -1.091785922467976, 1, 31, 106), (('Deletion', 'V1833M'), -1.115698079873387, 1, 31, 112), (('C64G', 'P1749R'), -1.1447263309157574, 1, 128, 29)]"
   ]
  },
  {
   "cell_type": "code",
   "execution_count": 23,
   "metadata": {},
   "outputs": [],
   "source": [
    "# Append PMI values to the list of mutation pairs \n",
    "\n",
    "for i in range(len(PMI_Mutations_Combined_List)):\n",
    "    for key in combination_mutation_pairs_BRCA1.keys():\n",
    "        if PMI_Mutations_Combined_List[i][0][0] in key and PMI_Mutations_Combined_List[i][0][1] in key:\n",
    "            #combination_mutation_pairs_BRCA1[key].insert(0,PMI_Mutations_Combined_List[i][1])\n",
    "            combination_mutation_pairs_BRCA1[key].append(PMI_Mutations_Combined_List[i][1])"
   ]
  },
  {
   "cell_type": "code",
   "execution_count": 24,
   "metadata": {},
   "outputs": [],
   "source": [
    "n_items = take(100, combination_mutation_pairs_BRCA1.items())"
   ]
  },
  {
   "cell_type": "code",
   "execution_count": 25,
   "metadata": {},
   "outputs": [
    {
     "name": "stdout",
     "output_type": "stream",
     "text": [
      "[('R1753T-C44Y', [1, -0.12656836134180824]), ('R1753T-R1835P', [0]), ('R1753T-Truncating Mutations', [0]), ('R1753T-G1803A', [0]), ('R1753T-A1830T', [0]), ('R1753T-G1743R', [0, -0.2234783743498647]), ('R1753T-I68K', [0, -0.8032619709666747]), ('R1753T-C64G', [1, 0.15361149534905283]), ('R1753T-S4P', [0]), ('R1753T-K50L', [0]), ('R1753T-Y105C', [0]), ('R1753T-L63F', [0]), ('R1753T-L1407P', [0, -0.6661820642658338]), ('R1753T-L1657P', [0]), ('R1753T-F79S', [0]), ('R1753T-D1778H', [0]), ('R1753T-D1546N', [0]), ('R1753T-M1689T', [0]), ('R1753T-D96N', [0]), ('R1753T-W1837C', [0]), ('R1753T-Deletion', [0]), ('R1753T-P1856S', [0]), ('R1753T-F1761I', [0]), ('R1753T-A1823T', [0]), ('R1753T-I1807S', [0]), ('R1753T-K38N', [0]), ('R1753T-S1651P', [0]), ('R1753T-L246V', [0]), ('R1753T-V191I', [0]), ('R1753T-T37R', [1]), ('R1753T-D1818G', [0]), ('R1753T-S72R', [0]), ('R1753T-Y179C', [0]), ('R1753T-C39Y', [1]), ('R1753T-K45N', [0]), ('R1753T-L52F', [0]), ('R1753T-H1746N', [0]), ('R1753T-P1749R', [1]), ('R1753T-H1746Q', [0]), ('R1753T-I21V', [0]), ('R1753T-W1718C', [1]), ('R1753T-R170W', [0]), ('R1753T-T77M', [0]), ('R1753T-V1713A', [1]), ('R1753T-V1833M', [0]), ('R1753T-S1101N', [0]), ('R1753T-T1691I', [0]), ('R1753T-L147F', [0]), ('R1753T-H1421Y', [0]), ('R1753T-E362H', [0]), ('R1753T-R170Q', [0]), ('R1753T-S1715C', [0]), ('R1753T-E1794D', [0]), ('R1753T-L358R', [0]), ('R1753T-S308A', [0]), ('R1753T-V1741G', [0]), ('R1753T-R1699L', [0]), ('R1753T-V1804A', [0]), ('R1753T-E23fs', [1]), ('R1753T-F1734S', [0]), ('R1753T-C61G', [1]), ('R1753T-D245V', [0]), ('R1753T-P142H', [0]), ('R1753T-L1705P', [0]), ('R1753T-H1686R', [0]), ('R1753T-P1776S', [0]), ('R1753T-M1783T', [0]), ('R1753T-S1841R', [0]), ('R1753T-V1534M', [0]), ('R1753T-W1782C', [0]), ('R1753T-G1706A', [0]), ('R1753T-G1788V', [1]), ('R1753T-W1837G', [0]), ('R1753T-A1708E', [1]), ('R1753T-S1512I', [0]), ('R1753T-M1783I', [0]), ('R1753T-E1682V', [0]), ('R1753T-M1783L', [0]), ('R1753T-G1706E', [1]), ('R1753T-R496C', [0]), ('R1753T-S153R', [0]), ('R1753T-N810Y', [0]), ('R1753T-K1702E', [0]), ('R1753T-A1789S', [0]), ('R1753T-R866C', [0]), ('R1753T-V11A', [0]), ('R1753T-D1739V', [1]), ('R1753T-M1775E', [0]), ('R1753T-D67Y', [0]), ('R1753T-D1344H', [0]), ('R1753T-V271L', [0]), ('R1753T-S1841N', [0]), ('R1753T-F1761S', [1]), ('R1753T-E1586G', [0]), ('R1753T-S1841A', [0]), ('R1753T-I89N', [0]), ('R1753T-L82P', [0]), ('R1753T-P798L', [0]), ('R1753T-E29V', [0]), ('R1753T-M1775K', [1])]\n"
     ]
    }
   ],
   "source": [
    "print(n_items)"
   ]
  },
  {
   "cell_type": "code",
   "execution_count": 26,
   "metadata": {},
   "outputs": [],
   "source": [
    "# Create a dictionary of mutation pairs as keys and the similarity of their classes (1 or 0) and the PMI scores \n",
    "# as values for pairs that have a PMI value\n",
    "combined_dictionary={}\n",
    "for key in combination_mutation_pairs_BRCA1.keys(): \n",
    "    if len(combination_mutation_pairs_BRCA1[key])==2:\n",
    "        combined_dictionary[key]=combination_mutation_pairs_BRCA1[key]\n",
    "        "
   ]
  },
  {
   "cell_type": "code",
   "execution_count": 27,
   "metadata": {},
   "outputs": [
    {
     "name": "stdout",
     "output_type": "stream",
     "text": [
      "{'R1753T-C44Y': [1, -0.12656836134180824], 'R1753T-G1743R': [0, -0.2234783743498647], 'R1753T-I68K': [0, -0.8032619709666747], 'R1753T-C64G': [1, 0.15361149534905283], 'R1753T-L1407P': [0, -0.6661820642658338], 'C44Y-G1743R': [0, -0.40762727607516935], 'C44Y-I68K': [0, 0.24303804868629442], 'C44Y-Deletion': [0, 0.03042995580485079], 'C44Y-C39Y': [1, 0.3043077054252171], 'G1743R-L1407P': [1, -0.8892490320215083], 'G1743R-L1657P': [1, 0.35843547470073533], 'I68K-C64G': [0, 0.2693669874086436], 'C64G-Y105C': [0, -0.7035176320867395], 'C64G-P1749R': [1, -1.1447263309157574], 'L1407P-H1421Y': [0, -0.039011352354840365], 'Deletion-H1746N': [1, -1.091785922467976], 'Deletion-P1749R': [0, -0.5288780551021617], 'Deletion-V1833M': [1, -1.115698079873387], 'H1746N-V1833M': [1, -0.14449227298397885], 'P1749R-V1713A': [1, -0.09821420162150073], 'W1718C-E1586G': [0, 0.15817966974697906], 'V1833M-V1804A': [0, -0.42596873227228116], 'A1708E-R496C': [0, 0.15072378736738717], 'S1512I-N132K': [0, -0.4484389651843318]}\n"
     ]
    }
   ],
   "source": [
    "print(combined_dictionary)"
   ]
  },
  {
   "cell_type": "code",
   "execution_count": 28,
   "metadata": {},
   "outputs": [],
   "source": [
    "list_plot=list(combined_dictionary.values())"
   ]
  },
  {
   "cell_type": "code",
   "execution_count": 29,
   "metadata": {},
   "outputs": [
    {
     "name": "stdout",
     "output_type": "stream",
     "text": [
      "[[1, -0.12656836134180824], [0, -0.2234783743498647], [0, -0.8032619709666747], [1, 0.15361149534905283], [0, -0.6661820642658338], [0, -0.40762727607516935], [0, 0.24303804868629442], [0, 0.03042995580485079], [1, 0.3043077054252171], [1, -0.8892490320215083], [1, 0.35843547470073533], [0, 0.2693669874086436], [0, -0.7035176320867395], [1, -1.1447263309157574], [0, -0.039011352354840365], [1, -1.091785922467976], [0, -0.5288780551021617], [1, -1.115698079873387], [1, -0.14449227298397885], [1, -0.09821420162150073], [0, 0.15817966974697906], [0, -0.42596873227228116], [0, 0.15072378736738717], [0, -0.4484389651843318]]\n"
     ]
    }
   ],
   "source": [
    "print(list_plot)"
   ]
  },
  {
   "cell_type": "code",
   "execution_count": 30,
   "metadata": {},
   "outputs": [],
   "source": [
    "list_plot_tuple = [tuple(l) for l in list_plot]\n"
   ]
  },
  {
   "cell_type": "code",
   "execution_count": 31,
   "metadata": {},
   "outputs": [
    {
     "name": "stdout",
     "output_type": "stream",
     "text": [
      "[(1, -0.12656836134180824), (0, -0.2234783743498647), (0, -0.8032619709666747), (1, 0.15361149534905283), (0, -0.6661820642658338), (0, -0.40762727607516935), (0, 0.24303804868629442), (0, 0.03042995580485079), (1, 0.3043077054252171), (1, -0.8892490320215083), (1, 0.35843547470073533), (0, 0.2693669874086436), (0, -0.7035176320867395), (1, -1.1447263309157574), (0, -0.039011352354840365), (1, -1.091785922467976), (0, -0.5288780551021617), (1, -1.115698079873387), (1, -0.14449227298397885), (1, -0.09821420162150073), (0, 0.15817966974697906), (0, -0.42596873227228116), (0, 0.15072378736738717), (0, -0.4484389651843318)]\n"
     ]
    }
   ],
   "source": [
    "print(list_plot_tuple)"
   ]
  },
  {
   "cell_type": "code",
   "execution_count": 32,
   "metadata": {},
   "outputs": [
    {
     "name": "stdout",
     "output_type": "stream",
     "text": [
      "[(-0.12656836134180824, 1), (-0.2234783743498647, 0), (-0.8032619709666747, 0), (0.15361149534905283, 1), (-0.6661820642658338, 0), (-0.40762727607516935, 0), (0.24303804868629442, 0), (0.03042995580485079, 0), (0.3043077054252171, 1), (-0.8892490320215083, 1), (0.35843547470073533, 1), (0.2693669874086436, 0), (-0.7035176320867395, 0), (-1.1447263309157574, 1), (-0.039011352354840365, 0), (-1.091785922467976, 1), (-0.5288780551021617, 0), (-1.115698079873387, 1), (-0.14449227298397885, 1), (-0.09821420162150073, 1), (0.15817966974697906, 0), (-0.42596873227228116, 0), (0.15072378736738717, 0), (-0.4484389651843318, 0)]\n"
     ]
    }
   ],
   "source": [
    "res = [(sub[1], sub[0]) for sub in list_plot_tuple]\n",
    "print(res)"
   ]
  },
  {
   "cell_type": "code",
   "execution_count": 33,
   "metadata": {},
   "outputs": [
    {
     "data": {
      "image/png": "[encoded data removed]",
      "text/plain": [
       "<Figure size 432x288 with 1 Axes>"
      ]
     },
     "metadata": {
      "needs_background": "light"
     },
     "output_type": "display_data"
    }
   ],
   "source": [
    "import matplotlib.pyplot, pylab\n",
    "matplotlib.pyplot.scatter(*zip(*res)) \n",
    "plt.title('Mutation Similarity vs PMI for BRCA1 Gene Mutation Pairs')\n",
    "plt.xlabel('PMI Score of two Gene Mutation Pairs')\n",
    "plt.ylabel('Mutation Similarity')\n",
    "matplotlib.pyplot.show()"
   ]
  }
 ],
 "metadata": {
  "kernelspec": {
   "display_name": "Python 3",
   "language": "python",
   "name": "python3"
  },
  "language_info": {
   "codemirror_mode": {
    "name": "ipython",
    "version": 3
   },
   "file_extension": ".py",
   "mimetype": "text/x-python",
   "name": "python",
   "nbconvert_exporter": "python",
   "pygments_lexer": "ipython3",
   "version": "3.8.5"
  }
 },
 "nbformat": 4,
 "nbformat_minor": 4
}
